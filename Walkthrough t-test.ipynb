{
 "cells": [
  {
   "cell_type": "code",
   "execution_count": 1,
   "metadata": {
    "executionInfo": {
     "elapsed": 2060,
     "status": "ok",
     "timestamp": 1683900708140,
     "user": {
      "displayName": "Luz Dobbins",
      "userId": "15497251191654654554"
     },
     "user_tz": 240
    },
    "id": "wOebv3jqTKWl"
   },
   "outputs": [],
   "source": [
    "import pandas as pd\n",
    "import numpy as np\n",
    "import matplotlib.pyplot as plt\n",
    "import seaborn as sns\n",
    "import scipy.stats as stats"
   ]
  },
  {
   "cell_type": "code",
   "execution_count": 2,
   "metadata": {
    "colab": {
     "base_uri": "https://localhost:8080/",
     "height": 421
    },
    "executionInfo": {
     "elapsed": 864,
     "status": "ok",
     "timestamp": 1683900709001,
     "user": {
      "displayName": "Luz Dobbins",
      "userId": "15497251191654654554"
     },
     "user_tz": 240
    },
    "id": "QFUmpowBTY7g",
    "outputId": "9d40e31f-ed65-4718-f397-17f66eeef3e4"
   },
   "outputs": [
    {
     "data": {
      "text/html": [
       "\n",
       "  <div id=\"df-bacf4664-e87b-4456-9263-b9b6209c4d63\">\n",
       "    <div class=\"colab-df-container\">\n",
       "      <div>\n",
       "<style scoped>\n",
       "    .dataframe tbody tr th:only-of-type {\n",
       "        vertical-align: middle;\n",
       "    }\n",
       "\n",
       "    .dataframe tbody tr th {\n",
       "        vertical-align: top;\n",
       "    }\n",
       "\n",
       "    .dataframe thead th {\n",
       "        text-align: right;\n",
       "    }\n",
       "</style>\n",
       "<table border=\"1\" class=\"dataframe\">\n",
       "  <thead>\n",
       "    <tr style=\"text-align: right;\">\n",
       "      <th></th>\n",
       "      <th>Gender</th>\n",
       "      <th>Race</th>\n",
       "      <th>Alignment</th>\n",
       "      <th>Hair color</th>\n",
       "      <th>Eye color</th>\n",
       "      <th>Skin color</th>\n",
       "      <th>Hero</th>\n",
       "      <th>Publisher</th>\n",
       "      <th>Height</th>\n",
       "      <th>Weight</th>\n",
       "      <th>...</th>\n",
       "      <th>Weather Control</th>\n",
       "      <th>Omnipresent</th>\n",
       "      <th>Omniscient</th>\n",
       "      <th>Hair Manipulation</th>\n",
       "      <th>Nova Force</th>\n",
       "      <th>Odin Force</th>\n",
       "      <th>Phoenix Force</th>\n",
       "      <th>Intuitive aptitude</th>\n",
       "      <th>Melting</th>\n",
       "      <th>Changing Armor</th>\n",
       "    </tr>\n",
       "  </thead>\n",
       "  <tbody>\n",
       "    <tr>\n",
       "      <th>0</th>\n",
       "      <td>Male</td>\n",
       "      <td>Human</td>\n",
       "      <td>good</td>\n",
       "      <td>No Hair</td>\n",
       "      <td>yellow</td>\n",
       "      <td>Unknown</td>\n",
       "      <td>A-Bomb</td>\n",
       "      <td>Marvel Comics</td>\n",
       "      <td>203.0</td>\n",
       "      <td>441</td>\n",
       "      <td>...</td>\n",
       "      <td>False</td>\n",
       "      <td>False</td>\n",
       "      <td>False</td>\n",
       "      <td>False</td>\n",
       "      <td>False</td>\n",
       "      <td>False</td>\n",
       "      <td>False</td>\n",
       "      <td>False</td>\n",
       "      <td>False</td>\n",
       "      <td>False</td>\n",
       "    </tr>\n",
       "    <tr>\n",
       "      <th>1</th>\n",
       "      <td>Male</td>\n",
       "      <td>Icthyo Sapien</td>\n",
       "      <td>good</td>\n",
       "      <td>No Hair</td>\n",
       "      <td>blue</td>\n",
       "      <td>blue</td>\n",
       "      <td>Abe Sapien</td>\n",
       "      <td>Dark Horse Comics</td>\n",
       "      <td>191.0</td>\n",
       "      <td>65</td>\n",
       "      <td>...</td>\n",
       "      <td>False</td>\n",
       "      <td>False</td>\n",
       "      <td>False</td>\n",
       "      <td>False</td>\n",
       "      <td>False</td>\n",
       "      <td>False</td>\n",
       "      <td>False</td>\n",
       "      <td>False</td>\n",
       "      <td>False</td>\n",
       "      <td>False</td>\n",
       "    </tr>\n",
       "    <tr>\n",
       "      <th>2</th>\n",
       "      <td>Male</td>\n",
       "      <td>Ungaran</td>\n",
       "      <td>good</td>\n",
       "      <td>No Hair</td>\n",
       "      <td>blue</td>\n",
       "      <td>red</td>\n",
       "      <td>Abin Sur</td>\n",
       "      <td>DC Comics</td>\n",
       "      <td>185.0</td>\n",
       "      <td>90</td>\n",
       "      <td>...</td>\n",
       "      <td>False</td>\n",
       "      <td>False</td>\n",
       "      <td>False</td>\n",
       "      <td>False</td>\n",
       "      <td>False</td>\n",
       "      <td>False</td>\n",
       "      <td>False</td>\n",
       "      <td>False</td>\n",
       "      <td>False</td>\n",
       "      <td>False</td>\n",
       "    </tr>\n",
       "    <tr>\n",
       "      <th>3</th>\n",
       "      <td>Male</td>\n",
       "      <td>Human / Radiation</td>\n",
       "      <td>bad</td>\n",
       "      <td>No Hair</td>\n",
       "      <td>green</td>\n",
       "      <td>Unknown</td>\n",
       "      <td>Abomination</td>\n",
       "      <td>Marvel Comics</td>\n",
       "      <td>203.0</td>\n",
       "      <td>441</td>\n",
       "      <td>...</td>\n",
       "      <td>False</td>\n",
       "      <td>False</td>\n",
       "      <td>False</td>\n",
       "      <td>False</td>\n",
       "      <td>False</td>\n",
       "      <td>False</td>\n",
       "      <td>False</td>\n",
       "      <td>False</td>\n",
       "      <td>False</td>\n",
       "      <td>False</td>\n",
       "    </tr>\n",
       "    <tr>\n",
       "      <th>4</th>\n",
       "      <td>Male</td>\n",
       "      <td>Human</td>\n",
       "      <td>bad</td>\n",
       "      <td>No Hair</td>\n",
       "      <td>blue</td>\n",
       "      <td>Unknown</td>\n",
       "      <td>Absorbing Man</td>\n",
       "      <td>Marvel Comics</td>\n",
       "      <td>193.0</td>\n",
       "      <td>122</td>\n",
       "      <td>...</td>\n",
       "      <td>False</td>\n",
       "      <td>False</td>\n",
       "      <td>False</td>\n",
       "      <td>False</td>\n",
       "      <td>False</td>\n",
       "      <td>False</td>\n",
       "      <td>False</td>\n",
       "      <td>False</td>\n",
       "      <td>False</td>\n",
       "      <td>False</td>\n",
       "    </tr>\n",
       "  </tbody>\n",
       "</table>\n",
       "<p>5 rows × 178 columns</p>\n",
       "</div>\n",
       "      <button class=\"colab-df-convert\" onclick=\"convertToInteractive('df-bacf4664-e87b-4456-9263-b9b6209c4d63')\"\n",
       "              title=\"Convert this dataframe to an interactive table.\"\n",
       "              style=\"display:none;\">\n",
       "        \n",
       "  <svg xmlns=\"http://www.w3.org/2000/svg\" height=\"24px\"viewBox=\"0 0 24 24\"\n",
       "       width=\"24px\">\n",
       "    <path d=\"M0 0h24v24H0V0z\" fill=\"none\"/>\n",
       "    <path d=\"M18.56 5.44l.94 2.06.94-2.06 2.06-.94-2.06-.94-.94-2.06-.94 2.06-2.06.94zm-11 1L8.5 8.5l.94-2.06 2.06-.94-2.06-.94L8.5 2.5l-.94 2.06-2.06.94zm10 10l.94 2.06.94-2.06 2.06-.94-2.06-.94-.94-2.06-.94 2.06-2.06.94z\"/><path d=\"M17.41 7.96l-1.37-1.37c-.4-.4-.92-.59-1.43-.59-.52 0-1.04.2-1.43.59L10.3 9.45l-7.72 7.72c-.78.78-.78 2.05 0 2.83L4 21.41c.39.39.9.59 1.41.59.51 0 1.02-.2 1.41-.59l7.78-7.78 2.81-2.81c.8-.78.8-2.07 0-2.86zM5.41 20L4 18.59l7.72-7.72 1.47 1.35L5.41 20z\"/>\n",
       "  </svg>\n",
       "      </button>\n",
       "      \n",
       "  <style>\n",
       "    .colab-df-container {\n",
       "      display:flex;\n",
       "      flex-wrap:wrap;\n",
       "      gap: 12px;\n",
       "    }\n",
       "\n",
       "    .colab-df-convert {\n",
       "      background-color: #E8F0FE;\n",
       "      border: none;\n",
       "      border-radius: 50%;\n",
       "      cursor: pointer;\n",
       "      display: none;\n",
       "      fill: #1967D2;\n",
       "      height: 32px;\n",
       "      padding: 0 0 0 0;\n",
       "      width: 32px;\n",
       "    }\n",
       "\n",
       "    .colab-df-convert:hover {\n",
       "      background-color: #E2EBFA;\n",
       "      box-shadow: 0px 1px 2px rgba(60, 64, 67, 0.3), 0px 1px 3px 1px rgba(60, 64, 67, 0.15);\n",
       "      fill: #174EA6;\n",
       "    }\n",
       "\n",
       "    [theme=dark] .colab-df-convert {\n",
       "      background-color: #3B4455;\n",
       "      fill: #D2E3FC;\n",
       "    }\n",
       "\n",
       "    [theme=dark] .colab-df-convert:hover {\n",
       "      background-color: #434B5C;\n",
       "      box-shadow: 0px 1px 3px 1px rgba(0, 0, 0, 0.15);\n",
       "      filter: drop-shadow(0px 1px 2px rgba(0, 0, 0, 0.3));\n",
       "      fill: #FFFFFF;\n",
       "    }\n",
       "  </style>\n",
       "\n",
       "      <script>\n",
       "        const buttonEl =\n",
       "          document.querySelector('#df-bacf4664-e87b-4456-9263-b9b6209c4d63 button.colab-df-convert');\n",
       "        buttonEl.style.display =\n",
       "          google.colab.kernel.accessAllowed ? 'block' : 'none';\n",
       "\n",
       "        async function convertToInteractive(key) {\n",
       "          const element = document.querySelector('#df-bacf4664-e87b-4456-9263-b9b6209c4d63');\n",
       "          const dataTable =\n",
       "            await google.colab.kernel.invokeFunction('convertToInteractive',\n",
       "                                                     [key], {});\n",
       "          if (!dataTable) return;\n",
       "\n",
       "          const docLinkHtml = 'Like what you see? Visit the ' +\n",
       "            '<a target=\"_blank\" href=https://colab.research.google.com/notebooks/data_table.ipynb>data table notebook</a>'\n",
       "            + ' to learn more about interactive tables.';\n",
       "          element.innerHTML = '';\n",
       "          dataTable['output_type'] = 'display_data';\n",
       "          await google.colab.output.renderOutput(dataTable, element);\n",
       "          const docLink = document.createElement('div');\n",
       "          docLink.innerHTML = docLinkHtml;\n",
       "          element.appendChild(docLink);\n",
       "        }\n",
       "      </script>\n",
       "    </div>\n",
       "  </div>\n",
       "  "
      ],
      "text/plain": [
       "  Gender               Race Alignment Hair color Eye color Skin color  \\\n",
       "0   Male              Human      good    No Hair    yellow    Unknown   \n",
       "1   Male      Icthyo Sapien      good    No Hair      blue       blue   \n",
       "2   Male            Ungaran      good    No Hair      blue        red   \n",
       "3   Male  Human / Radiation       bad    No Hair     green    Unknown   \n",
       "4   Male              Human       bad    No Hair      blue    Unknown   \n",
       "\n",
       "            Hero          Publisher  Height  Weight  ... Weather Control  \\\n",
       "0         A-Bomb      Marvel Comics   203.0     441  ...           False   \n",
       "1     Abe Sapien  Dark Horse Comics   191.0      65  ...           False   \n",
       "2       Abin Sur          DC Comics   185.0      90  ...           False   \n",
       "3    Abomination      Marvel Comics   203.0     441  ...           False   \n",
       "4  Absorbing Man      Marvel Comics   193.0     122  ...           False   \n",
       "\n",
       "   Omnipresent  Omniscient  Hair Manipulation  Nova Force  Odin Force  \\\n",
       "0        False       False              False       False       False   \n",
       "1        False       False              False       False       False   \n",
       "2        False       False              False       False       False   \n",
       "3        False       False              False       False       False   \n",
       "4        False       False              False       False       False   \n",
       "\n",
       "   Phoenix Force  Intuitive aptitude  Melting  Changing Armor  \n",
       "0          False               False    False           False  \n",
       "1          False               False    False           False  \n",
       "2          False               False    False           False  \n",
       "3          False               False    False           False  \n",
       "4          False               False    False           False  \n",
       "\n",
       "[5 rows x 178 columns]"
      ]
     },
     "execution_count": 2,
     "metadata": {},
     "output_type": "execute_result"
    }
   ],
   "source": [
    "url = 'https://docs.google.com/spreadsheets/d/1EvADR_JB1Y7tQDGvu-5aBoCEPPS-Dqyca3YY_Jjakdw/gviz/tq?tqx=out:csv&sheet=Cleaned_Super_Hero'\n",
    "df = pd.read_csv(url)\n",
    "df.head()"
   ]
  },
  {
   "cell_type": "markdown",
   "metadata": {
    "id": "FGnfuyOTTbPG"
   },
   "source": [
    "Explore the data:\n",
    "How many are in the group?"
   ]
  },
  {
   "cell_type": "code",
   "execution_count": 3,
   "metadata": {
    "colab": {
     "base_uri": "https://localhost:8080/"
    },
    "executionInfo": {
     "elapsed": 426,
     "status": "ok",
     "timestamp": 1683900737257,
     "user": {
      "displayName": "Luz Dobbins",
      "userId": "15497251191654654554"
     },
     "user_tz": 240
    },
    "id": "9j6qWZuMTZYY",
    "outputId": "3f5353af-ba29-4a4b-fb81-279d18a6d014"
   },
   "outputs": [
    {
     "data": {
      "text/plain": [
       "True     274\n",
       "False    189\n",
       "Name: Super Strength, dtype: int64"
      ]
     },
     "execution_count": 3,
     "metadata": {},
     "output_type": "execute_result"
    }
   ],
   "source": [
    "# see how many with and without strength\n",
    "df['Super Strength'].value_counts()"
   ]
  },
  {
   "cell_type": "markdown",
   "metadata": {
    "id": "U-prVD_7TkVL"
   },
   "source": [
    "Split the data into two groups"
   ]
  },
  {
   "cell_type": "code",
   "execution_count": 4,
   "metadata": {
    "executionInfo": {
     "elapsed": 458,
     "status": "ok",
     "timestamp": 1683900761966,
     "user": {
      "displayName": "Luz Dobbins",
      "userId": "15497251191654654554"
     },
     "user_tz": 240
    },
    "id": "fTLo83L8TiMz"
   },
   "outputs": [],
   "source": [
    "# Filtering out those with and without super strength\n",
    "strength_df = df.loc[df['Super Strength']== True].copy()\n",
    "no_strength_df = df.loc[df['Super Strength']== False].copy()"
   ]
  },
  {
   "cell_type": "markdown",
   "metadata": {
    "id": "-vHOHUZ5TqQK"
   },
   "source": [
    "define our feature of interest."
   ]
  },
  {
   "cell_type": "code",
   "execution_count": 5,
   "metadata": {
    "executionInfo": {
     "elapsed": 399,
     "status": "ok",
     "timestamp": 1683900784396,
     "user": {
      "displayName": "Luz Dobbins",
      "userId": "15497251191654654554"
     },
     "user_tz": 240
    },
    "id": "NaqCQ3xnToKr"
   },
   "outputs": [],
   "source": [
    "strength_weight = strength_df['Weight']\n",
    "no_strength_weight = no_strength_df['Weight']"
   ]
  },
  {
   "cell_type": "markdown",
   "metadata": {
    "id": "iIJT9IimUjzx"
   },
   "source": [
    "## Check for and remove outliers\n",
    "\n",
    "We will check each group separately for outliers. We will start with the strength_weight group."
   ]
  },
  {
   "cell_type": "code",
   "execution_count": 6,
   "metadata": {
    "colab": {
     "base_uri": "https://localhost:8080/"
    },
    "executionInfo": {
     "elapsed": 6,
     "status": "ok",
     "timestamp": 1683901021408,
     "user": {
      "displayName": "Luz Dobbins",
      "userId": "15497251191654654554"
     },
     "user_tz": 240
    },
    "id": "-wlVG8VkUjMw",
    "outputId": "14081a99-0706-40b6-f08f-156151a2b74c"
   },
   "outputs": [
    {
     "data": {
      "text/plain": [
       "6"
      ]
     },
     "execution_count": 6,
     "metadata": {},
     "output_type": "execute_result"
    }
   ],
   "source": [
    "# Check for outliers in weight for strength group\n",
    "zscores= stats.zscore(strength_weight)\n",
    "outliers = abs(zscores)>3\n",
    "np.sum(outliers)"
   ]
  },
  {
   "cell_type": "markdown",
   "metadata": {
    "id": "U-O7zaPDUpSL"
   },
   "source": [
    "remove the outliers from strength"
   ]
  },
  {
   "cell_type": "code",
   "execution_count": 7,
   "metadata": {
    "executionInfo": {
     "elapsed": 5,
     "status": "ok",
     "timestamp": 1683901037100,
     "user": {
      "displayName": "Luz Dobbins",
      "userId": "15497251191654654554"
     },
     "user_tz": 240
    },
    "id": "VJmBJixJUnN9"
   },
   "outputs": [],
   "source": [
    "# remove outliers from strength group\n",
    "strength_weight = strength_weight[(np.abs(stats.zscore(strength_weight)) < 3)]"
   ]
  },
  {
   "cell_type": "markdown",
   "metadata": {
    "id": "crM_KWqTUtJO"
   },
   "source": [
    "check no strength weight for outliers"
   ]
  },
  {
   "cell_type": "code",
   "execution_count": 8,
   "metadata": {
    "colab": {
     "base_uri": "https://localhost:8080/"
    },
    "executionInfo": {
     "elapsed": 5,
     "status": "ok",
     "timestamp": 1683901058220,
     "user": {
      "displayName": "Luz Dobbins",
      "userId": "15497251191654654554"
     },
     "user_tz": 240
    },
    "id": "fH9y8ZjWUrWw",
    "outputId": "9556be45-dbea-428d-e5eb-12b76c46b4e4"
   },
   "outputs": [
    {
     "data": {
      "text/plain": [
       "1"
      ]
     },
     "execution_count": 8,
     "metadata": {},
     "output_type": "execute_result"
    }
   ],
   "source": [
    "# check for outliers in weight for no strength group\n",
    "zscores= stats.zscore(no_strength_weight)\n",
    "outliers = abs(zscores)>3\n",
    "np.sum(outliers)"
   ]
  },
  {
   "cell_type": "markdown",
   "metadata": {
    "id": "YemsVtxEUxN4"
   },
   "source": [
    "remove no strength outliers"
   ]
  },
  {
   "cell_type": "code",
   "execution_count": 9,
   "metadata": {
    "executionInfo": {
     "elapsed": 3,
     "status": "ok",
     "timestamp": 1683901125402,
     "user": {
      "displayName": "Luz Dobbins",
      "userId": "15497251191654654554"
     },
     "user_tz": 240
    },
    "id": "zCMbkLScUwgf"
   },
   "outputs": [],
   "source": [
    "# remove outliers from no_strength group\n",
    "no_strength_weight = no_strength_weight[(np.abs(stats.zscore(no_strength_weight)) < 3)]"
   ]
  },
  {
   "cell_type": "markdown",
   "metadata": {
    "id": "pNeTcSk2VCyc"
   },
   "source": [
    "Check for normality"
   ]
  },
  {
   "cell_type": "code",
   "execution_count": 10,
   "metadata": {
    "colab": {
     "base_uri": "https://localhost:8080/"
    },
    "executionInfo": {
     "elapsed": 4,
     "status": "ok",
     "timestamp": 1683901141808,
     "user": {
      "displayName": "Luz Dobbins",
      "userId": "15497251191654654554"
     },
     "user_tz": 240
    },
    "id": "tdYe18qrVBBQ",
    "outputId": "ccd17872-483f-41dc-ef47-4ca87452b4cb"
   },
   "outputs": [
    {
     "data": {
      "text/plain": [
       "NormaltestResult(statistic=105.002416481251, pvalue=1.5813025374989874e-23)"
      ]
     },
     "execution_count": 10,
     "metadata": {},
     "output_type": "execute_result"
    }
   ],
   "source": [
    "# test the strength group for normality\n",
    "result_strength_weight = stats.normaltest(strength_weight)\n",
    "result_strength_weight"
   ]
  },
  {
   "cell_type": "code",
   "execution_count": 11,
   "metadata": {
    "colab": {
     "base_uri": "https://localhost:8080/"
    },
    "executionInfo": {
     "elapsed": 4,
     "status": "ok",
     "timestamp": 1683901148249,
     "user": {
      "displayName": "Luz Dobbins",
      "userId": "15497251191654654554"
     },
     "user_tz": 240
    },
    "id": "pFRIw3tSVE_S",
    "outputId": "e105e3f1-e33d-424e-8464-23678137edce"
   },
   "outputs": [
    {
     "data": {
      "text/plain": [
       "NormaltestResult(statistic=10.034466263303866, pvalue=0.006622825869229763)"
      ]
     },
     "execution_count": 11,
     "metadata": {},
     "output_type": "execute_result"
    }
   ],
   "source": [
    "result_no_strength_weight = stats.normaltest(no_strength_weight)\n",
    "result_no_strength_weight"
   ]
  },
  {
   "cell_type": "markdown",
   "metadata": {
    "id": "kWFg8rMdVFdE"
   },
   "source": [
    "Our p-values for both group are well below 0.05 which means our data is NOT normally distributed.  However, our our sample size is large enough to proceed without satisfying this test.  For an independent t test, sample sizes of 15 per group are considered sufficient."
   ]
  },
  {
   "cell_type": "markdown",
   "metadata": {
    "id": "HTIBwzaTVN9O"
   },
   "source": [
    "Check for equal Variance"
   ]
  },
  {
   "cell_type": "code",
   "execution_count": 12,
   "metadata": {
    "colab": {
     "base_uri": "https://localhost:8080/"
    },
    "executionInfo": {
     "elapsed": 5,
     "status": "ok",
     "timestamp": 1683901189553,
     "user": {
      "displayName": "Luz Dobbins",
      "userId": "15497251191654654554"
     },
     "user_tz": 240
    },
    "id": "Wo8wdNVSVGiM",
    "outputId": "114f8b40-e32e-4744-98c6-1f55b06a2cee"
   },
   "outputs": [
    {
     "data": {
      "text/plain": [
       "LeveneResult(statistic=54.1012395290633, pvalue=8.971388915444231e-13)"
      ]
     },
     "execution_count": 12,
     "metadata": {},
     "output_type": "execute_result"
    }
   ],
   "source": [
    "# Test for equal variance\n",
    "result = stats.levene(strength_weight, no_strength_weight)\n",
    "result"
   ]
  },
  {
   "cell_type": "markdown",
   "metadata": {
    "id": "80SFwLqUVSrc"
   },
   "source": [
    "Looks like we don't have equal variances, but that won't stop us! We just need to be sure to include \"equal_var = False\" when we perform our t-test.\n",
    "\n",
    "\n",
    "\n",
    "## Perform and evaluate the t-test\n",
    "\n",
    "We will perform the independent t-test "
   ]
  },
  {
   "cell_type": "code",
   "execution_count": 13,
   "metadata": {
    "colab": {
     "base_uri": "https://localhost:8080/"
    },
    "executionInfo": {
     "elapsed": 3,
     "status": "ok",
     "timestamp": 1683901243791,
     "user": {
      "displayName": "Luz Dobbins",
      "userId": "15497251191654654554"
     },
     "user_tz": 240
    },
    "id": "_SLBETJMVQns",
    "outputId": "7d976e49-2a5d-4356-9012-bd9c5938b4a2"
   },
   "outputs": [
    {
     "data": {
      "text/plain": [
       "Ttest_indResult(statistic=9.12425300025232, pvalue=1.0881200502443155e-17)"
      ]
     },
     "execution_count": 13,
     "metadata": {},
     "output_type": "execute_result"
    }
   ],
   "source": [
    "result = stats.ttest_ind(strength_weight, no_strength_weight, equal_var= False)\n",
    "result"
   ]
  }
 ],
 "metadata": {
  "colab": {
   "authorship_tag": "ABX9TyNR72Nk7K5+9dnNGQJpIRDO",
   "provenance": []
  },
  "kernelspec": {
   "display_name": "Python 3",
   "name": "python3"
  },
  "language_info": {
   "name": "python"
  }
 },
 "nbformat": 4,
 "nbformat_minor": 0
}
